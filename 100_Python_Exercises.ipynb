{
  "cells": [
    {
      "cell_type": "markdown",
      "metadata": {
        "id": "view-in-github",
        "colab_type": "text"
      },
      "source": [
        "<a href=\"https://colab.research.google.com/github/egecandrsn/100_Python_Exercises.ipynb/blob/main/100_Python_Exercises.ipynb\" target=\"_parent\"><img src=\"https://colab.research.google.com/assets/colab-badge.svg\" alt=\"Open In Colab\"/></a>"
      ]
    },
    {
      "cell_type": "code",
      "execution_count": null,
      "metadata": {
        "colab": {
          "base_uri": "https://localhost:8080/"
        },
        "id": "chURWAuZS1gK",
        "outputId": "bf816318-d878-4b54-c42c-d3c1efdbc587"
      },
      "outputs": [
        {
          "name": "stdout",
          "output_type": "stream",
          "text": [
            "2002, 2009, 2016, 2023, 2037, 2044, 2051, 2058, 2072, 2079, 2086, 2093, 2107, 2114, 2121, 2128, 2142, 2149, 2156, 2163, 2177, 2184, 2191, 2198, 2212, 2219, 2226, 2233, 2247, 2254, 2261, 2268, 2282, 2289, 2296, 2303, 2317, 2324, 2331, 2338, 2352, 2359, 2366, 2373, 2387, 2394, 2401, 2408, 2422, 2429, 2436, 2443, 2457, 2464, 2471, 2478, 2492, 2499, 2506, 2513, 2527, 2534, 2541, 2548, 2562, 2569, 2576, 2583, 2597, 2604, 2611, 2618, 2632, 2639, 2646, 2653, 2667, 2674, 2681, 2688, 2702, 2709, 2716, 2723, 2737, 2744, 2751, 2758, 2772, 2779, 2786, 2793, 2807, 2814, 2821, 2828, 2842, 2849, 2856, 2863, 2877, 2884, 2891, 2898, 2912, 2919, 2926, 2933, 2947, 2954, 2961, 2968, 2982, 2989, 2996, 3003, 3017, 3024, 3031, 3038, 3052, 3059, 3066, 3073, 3087, 3094, 3101, 3108, 3122, 3129, 3136, 3143, 3157, 3164, 3171, 3178, 3192, 3199\n"
          ]
        }
      ],
      "source": [
        "\"\"\"\n",
        "Question: Write a program which will find all such numbers which are divisible by 7 but are not a multiple of 5, between 2000 and 3200 (both included).\n",
        "The numbers obtained should be printed in a comma-separated sequence on a single line.\n",
        "\n",
        "Hints: Consider use range(#begin, #end) method\n",
        "\"\"\"\n",
        "\n",
        "def is_divisible_by_7_and_not_divisible_by_5():\n",
        "  divisibles=[]\n",
        "  for x in range(2000,3200):\n",
        "    if x % 7 == 0:\n",
        "      if x % 5 !=0:\n",
        "        divisibles.append(str(x))\n",
        "  print(', '.join(divisibles))\n",
        "\n",
        "is_divisible_by_7_and_not_divisible_by_5()"
      ]
    },
    {
      "cell_type": "code",
      "execution_count": null,
      "metadata": {
        "colab": {
          "base_uri": "https://localhost:8080/"
        },
        "id": "VgqdXeXATu_d",
        "outputId": "d81cf3e7-8cdc-4afe-f6f6-9e9878478c3e"
      },
      "outputs": [
        {
          "name": "stdout",
          "output_type": "stream",
          "text": [
            "Give a number: 4\n",
            "24\n"
          ]
        }
      ],
      "source": [
        "\"\"\"\n",
        "Question: Write a program which can compute the factorial of a given numbers.\n",
        "Suppose the following input is supplied to the program: 8 Then, the output should be: 40320\n",
        "\n",
        "Hints: In case of input data being supplied to the question, it should be assumed to be a console input.\n",
        "\"\"\"\n",
        "\n",
        "def factorial():\n",
        "  x=int(input(\"Give a number: \"))\n",
        "  for i in range(x-1):\n",
        "    x+=x*i\n",
        "  print(x)\n",
        "\n",
        "factorial()"
      ]
    },
    {
      "cell_type": "code",
      "execution_count": null,
      "metadata": {
        "colab": {
          "base_uri": "https://localhost:8080/"
        },
        "id": "MejcP1tSUH16",
        "outputId": "d7c141b7-8bd7-419b-ed0a-f32f8285a665"
      },
      "outputs": [
        {
          "name": "stdout",
          "output_type": "stream",
          "text": [
            "Give a sequence of numbers seperated with comma: 1,2,3,4,5,6\n",
            "['1', '2', '3', '4', '5', '6'] ('1', '2', '3', '4', '5', '6')\n"
          ]
        }
      ],
      "source": [
        "\"\"\"\n",
        "Question: Write a program which accepts a sequence of comma-separated numbers from console and generate a list and a tuple which contains every number.\n",
        "Suppose the following input is supplied to the program: 34,67,55,33,12,98\n",
        "Then, the output should be: ['34', '67', '55', '33', '12', '98'] ('34', '67', '55', '33', '12', '98')\n",
        "\n",
        "Hints: In case of input data being supplied to the question, it should be assumed to be a console input. tuple() method can convert list to tuple\n",
        "\"\"\"\n",
        "\n",
        "def list_n_tuple():\n",
        "  x=input(\"Give a sequence of numbers seperated with comma: \")\n",
        "  x=x.split(\",\")\n",
        "  x\n",
        "  y=tuple(x)\n",
        "  print(x,y)\n",
        "\n",
        "list_n_tuple()"
      ]
    },
    {
      "cell_type": "code",
      "execution_count": null,
      "metadata": {
        "colab": {
          "base_uri": "https://localhost:8080/"
        },
        "id": "6KLfwDYEUH6s",
        "outputId": "b3c47e77-3527-49e9-bdb8-a3f83deaa7b8"
      },
      "outputs": [
        {
          "name": "stdout",
          "output_type": "stream",
          "text": [
            "qweasdzxc123\n",
            "QWEASDZXC123\n"
          ]
        }
      ],
      "source": [
        "\"\"\"\n",
        "Question: Define a class which has at least two methods:\n",
        "getString: to get a string from console input\n",
        "printString: to print the string in upper case.\n",
        "Also please include simple test function to test the class methods.\n",
        "\n",
        "Hints: Use init method to construct some parameters\n",
        "\"\"\"\n",
        "\n",
        "class someclass():\n",
        "  def __init__(self) -> None:\n",
        "    pass\n",
        "\n",
        "  def getString(self):\n",
        "    self.string=input()\n",
        "\n",
        "  def printString(self):\n",
        "    print(self.string.upper())\n",
        "\n",
        "  def simple_test(self):\n",
        "    test=someclass()\n",
        "    test.getString()\n",
        "    test.printString()\n",
        "\n",
        "some=someclass()\n",
        "some.simple_test()"
      ]
    },
    {
      "cell_type": "code",
      "execution_count": null,
      "metadata": {
        "colab": {
          "base_uri": "https://localhost:8080/"
        },
        "id": "NZ9RM4mUC6uY",
        "outputId": "b7fb2336-da6f-41ec-fbd2-9bb8c920a411"
      },
      "outputs": [
        {
          "name": "stdout",
          "output_type": "stream",
          "text": [
            "Comma separated input sequence to calculate: 123.0,123.232,123\n"
          ]
        },
        {
          "data": {
            "text/plain": [
              "[15.684387141358123, 15.684387141358123, 15.684387141358123]"
            ]
          },
          "execution_count": 179,
          "metadata": {},
          "output_type": "execute_result"
        }
      ],
      "source": [
        "\"\"\"\n",
        "Question: Write a program that calculates and prints the value according to the given formula:\n",
        "Q = Square root of [(2 * C * D)/H]\n",
        "Following are the fixed values of C and H: C is 50. H is 30.\n",
        "D is the variable whose values should be input to your program in a comma-separated sequence.\n",
        "Example Let us assume the following comma separated input sequence is given to the program: 100,150,180 The output of the program should be: 18,22,24\n",
        "\n",
        "Hints: If the output received is in decimal form, it should be rounded off to its nearest value\n",
        "(for example, if the output received is 26.0, it should be printed as 26)\n",
        "In case of input data being supplied to the question, it should be assumed to be a console input.\n",
        "\"\"\"\n",
        "\n",
        "def Q():\n",
        "\n",
        "  import math\n",
        "  Qs=[]\n",
        "  d=input(\"Comma separated input sequence to calculate: \")\n",
        "  d=d.split(\",\")\n",
        "  C=50\n",
        "  H=50\n",
        "  for i in range(0,len(d)):\n",
        "    D=int(round(float(d[i])))\n",
        "    Q=math.sqrt((2*C*D)/H)\n",
        "    Qs.append(Q)\n",
        "  return Qs\n",
        "Q()"
      ]
    },
    {
      "cell_type": "code",
      "execution_count": null,
      "metadata": {
        "colab": {
          "base_uri": "https://localhost:8080/"
        },
        "id": "FbQZ0vyIDVob",
        "outputId": "3ffa471b-9fbd-4e85-acf3-cb7cf1b677da"
      },
      "outputs": [
        {
          "name": "stdout",
          "output_type": "stream",
          "text": [
            "Enter an integer: 12\n",
            "Enter an second integer: 16\n"
          ]
        },
        {
          "data": {
            "text/plain": [
              "[[0, 0, 0, 0, 0, 0, 0, 0, 0, 0, 0, 0, 0, 0, 0, 0],\n",
              " [0, 1, 2, 3, 4, 5, 6, 7, 8, 9, 10, 11, 12, 13, 14, 15],\n",
              " [0, 2, 4, 6, 8, 10, 12, 14, 16, 18, 20, 22, 24, 26, 28, 30],\n",
              " [0, 3, 6, 9, 12, 15, 18, 21, 24, 27, 30, 33, 36, 39, 42, 45],\n",
              " [0, 4, 8, 12, 16, 20, 24, 28, 32, 36, 40, 44, 48, 52, 56, 60],\n",
              " [0, 5, 10, 15, 20, 25, 30, 35, 40, 45, 50, 55, 60, 65, 70, 75],\n",
              " [0, 6, 12, 18, 24, 30, 36, 42, 48, 54, 60, 66, 72, 78, 84, 90],\n",
              " [0, 7, 14, 21, 28, 35, 42, 49, 56, 63, 70, 77, 84, 91, 98, 105],\n",
              " [0, 8, 16, 24, 32, 40, 48, 56, 64, 72, 80, 88, 96, 104, 112, 120],\n",
              " [0, 9, 18, 27, 36, 45, 54, 63, 72, 81, 90, 99, 108, 117, 126, 135],\n",
              " [0, 10, 20, 30, 40, 50, 60, 70, 80, 90, 100, 110, 120, 130, 140, 150],\n",
              " [0, 11, 22, 33, 44, 55, 66, 77, 88, 99, 110, 121, 132, 143, 154, 165]]"
            ]
          },
          "execution_count": 256,
          "metadata": {},
          "output_type": "execute_result"
        }
      ],
      "source": [
        "\"\"\"\n",
        "Question: Write a program which takes 2 digits, X,Y as input and generates a 2-dimensional array.\n",
        "The element value in the i-th row and j-th column of the array should be i*j. Note: i=0,1.., X-1; j=0,1,¡­Y-1.\n",
        "Example Suppose the following inputs are given to the program: 3,5 Then, the output of the program should be: [[0, 0, 0, 0, 0], [0, 1, 2, 3, 4], [0, 2, 4, 6, 8]]\n",
        "\"\"\"\n",
        "\n",
        "def two_d_array():\n",
        "\n",
        "  arrays=[]\n",
        "  try:\n",
        "      X = int(input(\"Enter an integer: \"))\n",
        "      Y = int(input(\"Enter an second integer: \"))\n",
        "  except ValueError:\n",
        "      print(\"Error: Input must be an integer\")\n",
        "  for i in range(X):\n",
        "    array=[]\n",
        "    arrays.append(array)\n",
        "    for j in range(Y):\n",
        "      array.append(i*j)\n",
        "  return arrays\n",
        "\n",
        "two_d_array()"
      ]
    },
    {
      "cell_type": "code",
      "execution_count": null,
      "metadata": {
        "colab": {
          "base_uri": "https://localhost:8080/"
        },
        "id": "GCWWFPUVDVrG",
        "outputId": "5ee62333-b0ea-4c2b-84bd-c4d38f295710"
      },
      "outputs": [
        {
          "name": "stdout",
          "output_type": "stream",
          "text": [
            "Comma separated sequence of words: without,hello,bag,world\n"
          ]
        },
        {
          "data": {
            "text/plain": [
              "['bag', 'hello', 'without', 'world']"
            ]
          },
          "execution_count": 264,
          "metadata": {},
          "output_type": "execute_result"
        }
      ],
      "source": [
        "\"\"\"\n",
        "Question: Write a program that accepts a comma separated sequence of words as input and prints\n",
        "the words in a comma-separated sequence after sorting them alphabetically.\n",
        "Suppose the following input is supplied to the program: without,hello,bag,world Then, the output should be: bag,hello,without,world\n",
        "\n",
        "Hints: In case of input data being supplied to the question, it should be assumed to be a console input.\n",
        "\"\"\"\n",
        "\n",
        "def alphabetically():\n",
        "  x=input(\"Comma separated sequence of words: \").split(\",\")\n",
        "  return sorted(x)\n",
        "\n",
        "alphabetically()"
      ]
    },
    {
      "cell_type": "code",
      "execution_count": null,
      "metadata": {
        "colab": {
          "base_uri": "https://localhost:8080/"
        },
        "id": "SyNpN9aSDV4y",
        "outputId": "12022ab3-1be4-47b6-b413-0b7f84fa4717"
      },
      "outputs": [
        {
          "name": "stdout",
          "output_type": "stream",
          "text": [
            "Sequence of lines to capitalize: sdfsd\n",
            "Sequence of lines to capitalize: sdfgdgfjghkjg\n",
            "Sequence of lines to capitalize: 1243565y4rufgjhdfgwiws,fdsd\n",
            "Sequence of lines to capitalize: sdgdfgjghjrdgsfADSASf\n",
            "Sequence of lines to capitalize: \n"
          ]
        },
        {
          "data": {
            "text/plain": [
              "['SDFSD',\n",
              " 'SDFGDGFJGHKJG',\n",
              " '1243565Y4RUFGJHDFGWIWS,FDSD',\n",
              " 'SDGDFGJGHJRDGSFADSASF']"
            ]
          },
          "execution_count": 5,
          "metadata": {},
          "output_type": "execute_result"
        }
      ],
      "source": [
        "\"\"\"\n",
        "Write a program that accepts sequence of lines as input and prints the lines after making all characters in the sentence capitalized.\n",
        "Suppose the following input is supplied to the program: Hello world Practice makes perfect Then, the output should be: HELLO WORLD PRACTICE MAKES PERFECT\n",
        "\n",
        "Hints: In case of input data being supplied to the question, it should be assumed to be a console input.\n",
        "\"\"\"\n",
        "\n",
        "def capitalize_lines():\n",
        "  lines=[]\n",
        "  while True:\n",
        "    line=input(\"Sequence of lines to capitalize: \")\n",
        "    if not line:\n",
        "      break\n",
        "    flines.append(line.upper())\n",
        "  return lines\n",
        "\n",
        "capitalize_lines()"
      ]
    },
    {
      "cell_type": "code",
      "execution_count": null,
      "metadata": {
        "colab": {
          "base_uri": "https://localhost:8080/"
        },
        "id": "JayqfSbwDV7T",
        "outputId": "271a3ed4-f766-446f-e44a-a55e886c74a8"
      },
      "outputs": [
        {
          "name": "stdout",
          "output_type": "stream",
          "text": [
            "A sequence of whitespace separated words: e32 234w efs fw 3r 43 fw f34 t34 t 34r 34r 34 rr34 f 34\n"
          ]
        },
        {
          "data": {
            "text/plain": [
              "['234w',\n",
              " '34',\n",
              " '34r',\n",
              " '3r',\n",
              " '43',\n",
              " 'e32',\n",
              " 'efs',\n",
              " 'f',\n",
              " 'f34',\n",
              " 'fw',\n",
              " 'rr34',\n",
              " 't',\n",
              " 't34']"
            ]
          },
          "execution_count": 13,
          "metadata": {},
          "output_type": "execute_result"
        }
      ],
      "source": [
        "\"\"\"\n",
        "Question: Write a program that accepts a sequence of whitespace separated words as input and prints/\n",
        "the words after removing all duplicate words and sorting them alphanumerically.\n",
        "Suppose the following input is supplied to the program: hello world and practice makes perfect and hello world again\n",
        "Then, the output should be: again and hello makes perfect practice world\n",
        "\n",
        "Hints: In case of input data being supplied to the question, it should be assumed to be a console input.\n",
        "We use set container to remove duplicated data automatically and then use sorted() to sort the data.\n",
        "\"\"\"\n",
        "\n",
        "def whitespaced():\n",
        "  removed=[]\n",
        "  words=input(\"A sequence of whitespace separated words: \")\n",
        "  words=words.split(\" \")\n",
        "  for i in range(len(words)):\n",
        "    if words[i] not in removed:\n",
        "      removed.append(words[i])\n",
        "  return sorted(removed)\n",
        "\n",
        "whitespaced()"
      ]
    },
    {
      "cell_type": "code",
      "execution_count": null,
      "metadata": {
        "colab": {
          "base_uri": "https://localhost:8080/"
        },
        "id": "hEp79HKfDV91",
        "outputId": "8a906060-2ca6-4753-a56c-95f900981b05"
      },
      "outputs": [
        {
          "name": "stdout",
          "output_type": "stream",
          "text": [
            "Comma separated 4 digit binary: 1010\n"
          ]
        },
        {
          "data": {
            "text/plain": [
              "[1010]"
            ]
          },
          "execution_count": 105,
          "metadata": {},
          "output_type": "execute_result"
        }
      ],
      "source": [
        "\"\"\"\n",
        "Question: Write a program which accepts a sequence of comma separated 4 digit binary numbers as its input/\n",
        "and then check whether they are divisible by 5 or not.\n",
        "The numbers that are divisible by 5 are to be printed in a comma separated sequence.\n",
        "Example: 0100,0011,1010,1001 Then the output should be: 1010 Notes: Assume the data is input by console.\n",
        "\n",
        "Hints: In case of input data being supplied to the question, it should be assumed to be a console input.\n",
        "\"\"\"\n",
        "def four_digit():\n",
        "\n",
        "  divisibles=[]\n",
        "  try:\n",
        "    digits=input(\"Comma separated 4 digit binary: \")\n",
        "    digits=digits.split(\",\")\n",
        "    for digit in digits:\n",
        "      digit=int(digit)\n",
        "      if digit % 5 == 0:\n",
        "        divisibles.append(digit)\n",
        "  except:\n",
        "    raise ValueError(\"Input must be number, separated with comma\")\n",
        "  return divisibles\n",
        "four_digit()"
      ]
    },
    {
      "cell_type": "code",
      "execution_count": null,
      "metadata": {
        "colab": {
          "base_uri": "https://localhost:8080/"
        },
        "id": "t-Mn_o08DWAg",
        "outputId": "0fc988af-b885-446c-8f8f-55fb75b8cadf"
      },
      "outputs": [
        {
          "name": "stdout",
          "output_type": "stream",
          "text": [
            " Enter a password:\n",
            "\n",
            "(Press Enter to terminate)\n"
          ]
        }
      ],
      "source": [
        "\"\"\"\n",
        "Question: A website requires the users to input username and password to register.\n",
        "Write a program to check the validity of password input by users. Following are the criteria for checking the password:\n",
        "\n",
        "At least 1 letter between [a-z]\n",
        "At least 1 number between [0-9]\n",
        "At least 1 letter between [A-Z]\n",
        "At least 1 character from [$#@]\n",
        "Minimum length of transaction password: 6\n",
        "Maximum length of transaction password: 12\n",
        "Your program should accept a sequence of comma separated passwords and will check them according to the above criteria.\n",
        "Passwords that match the criteria are to be printed, each separated by a comma.\n",
        "Example If the following passwords are given as input to the program: ABd1234@1,a F1#,2w3E*,2We3345 Then, the output of the program should be: ABd1234@1\n",
        "Hints: In case of input data being supplied to the question, it should be assumed to be a console input.\n",
        "\"\"\"\n",
        "\n",
        "def pass_control():\n",
        "  import re\n",
        "  while True:\n",
        "    password=input(\" Enter a password:\\n\\n(Press Enter to terminate)\")\n",
        "    if re.search(r'\\d+',password):\n",
        "      if re.search(r'[a-z]',password):\n",
        "        if re.search(r'[A-Z]',password):\n",
        "          if re.search(r'[!@#$%^&*()_+\\-=\\[\\]{};:\\'\",.<>?~]',password):\n",
        "            if len(password) <12:\n",
        "              if len(password) > 6:\n",
        "                print(\"Password is okay!\")\n",
        "    if not password:\n",
        "      break\n",
        "\n",
        "pass_control()"
      ]
    },
    {
      "cell_type": "code",
      "execution_count": null,
      "metadata": {
        "colab": {
          "base_uri": "https://localhost:8080/"
        },
        "id": "iuYOartwQ7vB",
        "outputId": "df88e4b5-a72c-4469-903f-228b478e6e8b"
      },
      "outputs": [
        {
          "name": "stdout",
          "output_type": "stream",
          "text": [
            "(name, age, height)\n",
            "Press Enter to terminate:Json,21,85\n",
            "(name, age, height)\n",
            "Press Enter to terminate:Jony,17,93\n",
            "(name, age, height)\n",
            "Press Enter to terminate:Jony,17,91\n",
            "(name, age, height)\n",
            "Press Enter to terminate:John,20,90\n",
            "(name, age, height)\n",
            "Press Enter to terminate:Tom,19,80\n",
            "(name, age, height)\n",
            "Press Enter to terminate:\n",
            "[('John', '20', '90'), ('Jony', '17', '91'), ('Jony', '17', '93'), ('Json', '21', '85'), ('Tom', '19', '80')]\n"
          ]
        }
      ],
      "source": [
        "\"\"\"\n",
        "Question: You are required to write a program to sort the (name, age, height) tuples by ascending order where name is string, age and height are numbers.\n",
        "The tuples are input by console. The sort criteria is: 1: Sort based on name; 2: Then sort based on age; 3:\n",
        "Then sort by score. The priority is that name > age > score. If the following tuples are given as input to the program:\n",
        "Tom,19,80 John,20,90 Jony,17,91 Jony,17,93 Json,21,85 Then, the output of the program should be:\n",
        "[('John', '20', '90'), ('Jony', '17', '91'), ('Jony', '17', '93'), ('Json', '21', '85'), ('Tom', '19', '80')]\n",
        "\n",
        "Hints: In case of input data being supplied to the question, it should be assumed to be a console input. We use itemgetter to enable multiple sort keys.\n",
        "\"\"\"\n",
        "\n",
        "def ascending():\n",
        "\n",
        "  lists=[]\n",
        "  from operator import itemgetter, attrgetter\n",
        "  while True:\n",
        "    unsorted=input(\"(name, age, height)\\nPress Enter to terminate:\")\n",
        "    if not unsorted:\n",
        "      break\n",
        "    unsort=tuple(unsorted.split(\",\"))\n",
        "    lists.append(unsort)\n",
        "  print(sorted(lists))\n",
        "\n",
        "ascending()"
      ]
    },
    {
      "cell_type": "code",
      "execution_count": null,
      "metadata": {
        "colab": {
          "base_uri": "https://localhost:8080/"
        },
        "id": "9Ig6cop-Q89k",
        "outputId": "29ba9c49-4ae0-41d8-c713-848b1cc3149a"
      },
      "outputs": [
        {
          "name": "stdout",
          "output_type": "stream",
          "text": [
            "0\n",
            "7\n",
            "14\n",
            "21\n",
            "28\n",
            "35\n",
            "42\n",
            "49\n",
            "56\n",
            "63\n",
            "70\n",
            "77\n",
            "84\n",
            "91\n",
            "98\n"
          ]
        }
      ],
      "source": [
        "\"\"\"\n",
        "Question: Define a class with a generator which can iterate the numbers, which are divisible by 7, between a given range 0 and n.\n",
        "\n",
        "Hints: Consider use yield\n",
        "\"\"\"\n",
        "def classs(n:int):\n",
        "\n",
        "  for i in range(0,n):\n",
        "    if i %7 == 0:\n",
        "      yield i\n",
        "\n",
        "for yiel in classs(100):\n",
        "    print(yiel)\n"
      ]
    },
    {
      "cell_type": "code",
      "execution_count": null,
      "metadata": {
        "colab": {
          "base_uri": "https://localhost:8080/"
        },
        "id": "DNYd3CQPiYUt",
        "outputId": "b8684065-6b65-4132-c554-4ee2dee45e13"
      },
      "outputs": [
        {
          "name": "stdout",
          "output_type": "stream",
          "text": [
            "Write anything: QWE QWE QWE QWE QWE QWE ASD ASD RG RTH TYJH RTG ERGF ERGF ERG RTH TYR JHTY JTY JFG HFGM GR5MY 54M NNKNlken3k4j6n 4n 45tejkt 4kt e4kt wemr qqw eqwewtne ktn54ömt 5öm y554lmy 45lmt 54kjt 45lk 45lg 54lgk 45kjgm 45l 45kjg 45kjg 45kjt 54kg 45kg 45kgn 54kg 45kg 45kg 45kg 45kg 45kg 45kjg 45kjg 54kjg 54kg 45kjg 54kjg 54kjg kj kj kj kj kj 5tr gr gerkg rkgbrtbgk\n"
          ]
        },
        {
          "data": {
            "text/plain": [
              "{'45kg': 6,\n",
              " '45kgn': 1,\n",
              " '45kjg': 5,\n",
              " '45kjgm': 1,\n",
              " '45kjt': 1,\n",
              " '45l': 1,\n",
              " '45lg': 1,\n",
              " '45lk': 1,\n",
              " '45lmt': 1,\n",
              " '45tejkt': 1,\n",
              " '4kt': 1,\n",
              " '4n': 1,\n",
              " '54M': 1,\n",
              " '54kg': 3,\n",
              " '54kjg': 3,\n",
              " '54kjt': 1,\n",
              " '54lgk': 1,\n",
              " '5tr': 1,\n",
              " '5öm': 1,\n",
              " 'ASD': 2,\n",
              " 'ERG': 1,\n",
              " 'ERGF': 2,\n",
              " 'GR5MY': 1,\n",
              " 'HFGM': 1,\n",
              " 'JFG': 1,\n",
              " 'JHTY': 1,\n",
              " 'JTY': 1,\n",
              " 'NNKNlken3k4j6n': 1,\n",
              " 'QWE': 6,\n",
              " 'RG': 1,\n",
              " 'RTG': 1,\n",
              " 'RTH': 2,\n",
              " 'TYJH': 1,\n",
              " 'TYR': 1,\n",
              " 'e4kt': 1,\n",
              " 'eqwewtne': 1,\n",
              " 'gerkg': 1,\n",
              " 'gr': 1,\n",
              " 'kj': 5,\n",
              " 'ktn54ömt': 1,\n",
              " 'qqw': 1,\n",
              " 'rkgbrtbgk': 1,\n",
              " 'wemr': 1,\n",
              " 'y554lmy': 1}"
            ]
          },
          "execution_count": 20,
          "metadata": {},
          "output_type": "execute_result"
        }
      ],
      "source": [
        "\"\"\"\n",
        "Question: Write a program to compute the frequency of the words from the input.\n",
        "The output should output after sorting the key alphanumerically.\n",
        "Suppose the following input is supplied to the program:\n",
        "New to Python or choosing between Python 2 and Python 3? Read Python 2 or Python 3.\n",
        "Then, the output should be: 2:2 3.:1 3?:1 New:1 Python:5 Read:1 and:1 between:1 choosing:1 or:2 to:1\n",
        "\n",
        "Hints In case of input data being supplied to the question, it should be assumed to be a console input.\n",
        "\"\"\"\n",
        "\n",
        "def word_frequency():\n",
        "  dictionary={}\n",
        "  words=input(\"Write anything: \")\n",
        "  words=words.split(\" \")\n",
        "  words=sorted(words)\n",
        "  for word in words:\n",
        "    dictionary[word]=dictionary.get(word,0)+1\n",
        "  return dictionary\n",
        "word_frequency()"
      ]
    },
    {
      "cell_type": "markdown",
      "metadata": {
        "id": "zQlNd2HWq0yg"
      },
      "source": [
        "Exercise: Palindrome Checker\n",
        "\n",
        "Description:\n",
        "Write a Python function that checks if a given string is a palindrome. A palindrome is a word, phrase, or sequence of characters that reads the same forward and backward (ignoring spaces, punctuation, and capitalization).\n",
        "\n",
        "Instructions:\n",
        "\n",
        "1. Create a Python function called `is_palindrome` that takes a single argument `text`.\n",
        "\n",
        "2. Inside the function, remove any spaces and convert the entire text to lowercase to make the comparison case-insensitive.\n",
        "\n",
        "3. Check if the modified `text` is the same when read forward and backward. If it is, return `True`; otherwise, return `False`.\n",
        "\n",
        "4. Test your function with different inputs, including both palindromes and non-palindromes, to ensure it works correctly.\n",
        "\n",
        "Example Usage:\n",
        "```python\n",
        "print(is_palindrome(\"racecar\"))  # True\n",
        "print(is_palindrome(\"Hello, World!\"))  # False\n",
        "print(is_palindrome(\"A man a plan a canal Panama\"))  # True\n",
        "```\n",
        "\n",
        "Happy coding!"
      ]
    },
    {
      "cell_type": "code",
      "execution_count": null,
      "metadata": {
        "colab": {
          "base_uri": "https://localhost:8080/"
        },
        "id": "CeNWjF2Bkj07",
        "outputId": "9b39012f-1d18-4c25-cc37-faa0c2f7aaf2"
      },
      "outputs": [
        {
          "name": "stdout",
          "output_type": "stream",
          "text": [
            "It's not a palindrome\n"
          ]
        }
      ],
      "source": [
        "def is_palindrome(word):\n",
        "  word = word.lower().replace(\" \", \"\").replace(\".\", \"\").replace(\",\", \"\")\n",
        "  if word == word[::-1]:\n",
        "    print(f\"Word: {word} is a palindrome!\")\n",
        "  else:\n",
        "    print(\"It's not a palindrome\")\n",
        "is_palindrome(\"ey edip danada pide ye\")"
      ]
    },
    {
      "cell_type": "markdown",
      "metadata": {
        "id": "LcE0lZnjrMhG"
      },
      "source": [
        "Exercise Title: \"Word Reversal\"\n",
        "\n",
        "Exercise Description:\n",
        "Write a Python program that takes a sentence as input from the user and reverses the order of words in the sentence. For example, if the user enters \"Hello World,\" the program should output \"World Hello.\"\n",
        "\n",
        "Instructions:\n",
        "1. Prompt the user to input a sentence.\n",
        "2. Use Python's string manipulation functions to split the sentence into words.\n",
        "3. Reverse the order of the words.\n",
        "4. Print the reversed sentence.\n",
        "\n",
        "Sample Input/Output:\n",
        "Input: \"This is a test\"\n",
        "Output: \"test a is This\"\n",
        "\n",
        "Challenge:\n",
        "Modify the program to handle punctuation and whitespace properly. For example, \"Hello, World!\" should be reversed as \"World! Hello,\"."
      ]
    },
    {
      "cell_type": "code",
      "execution_count": null,
      "metadata": {
        "colab": {
          "base_uri": "https://localhost:8080/"
        },
        "id": "BKM82iUX_Fqz",
        "outputId": "b93235ad-0f65-4e18-ac66-737f4e5c1aee"
      },
      "outputs": [
        {
          "name": "stdout",
          "output_type": "stream",
          "text": [
            "123123 123 123  124 124 35 yer gs dfsd gdr g dfgh \n",
            "dfgh\n",
            "g\n",
            "gdr\n",
            "dfsd\n",
            "gs\n",
            "yer\n",
            "35\n",
            "124\n",
            "124\n",
            "123\n",
            "123\n",
            "123123\n"
          ]
        }
      ],
      "source": [
        "def reversal():\n",
        "  x=input()\n",
        "  x=x.split()\n",
        "  x=x[::-1]\n",
        "  for word in range(len(x)):\n",
        "    print(x[word])\n",
        "reversal()"
      ]
    },
    {
      "cell_type": "markdown",
      "metadata": {
        "id": "ELk5pizZrMkC"
      },
      "source": [
        "**Exercise Title: \"Treasure Hunt Game\"**\n",
        "\n",
        "**Objective:** Develop a Python program that simulates a treasure hunt game where the player navigates through a grid to find hidden treasures.\n",
        "\n",
        "**Instructions:**\n",
        "\n",
        "1. Create a 5x5 grid as the game board.\n",
        "2. Place a random treasure on the grid.\n",
        "3. Allow the player to enter coordinates (row and column) to guess the treasure's location.\n",
        "4. Provide feedback to the player, indicating if they are getting closer or farther from the treasure with each guess.\n",
        "5. Limit the player to 5 guesses.\n",
        "6. Display the grid with the player's progress, marking their guesses and the location of the treasure with appropriate symbols.\n",
        "7. End the game when the player either finds the treasure or runs out of guesses.\n",
        "8. Display a message to inform the player of the game's outcome (win or lose).\n",
        "\n",
        "**Additional Challenges (Optional):**\n",
        "\n",
        "1. Implement a scoring system based on the number of guesses required to find the treasure.\n",
        "2. Allow the player to choose the grid size and the number of treasures to make the game more challenging.\n",
        "3. Add obstacles or hazards that the player must avoid while searching for treasure.\n",
        "\n",
        "**Example Output (Partial):**\n",
        "```\n",
        "--- Welcome to the Treasure Hunt Game! ---\n",
        "\n",
        "Here's the game board:\n",
        "[ ][ ][ ][ ][ ]\n",
        "[ ][ ][ ][ ][ ]\n",
        "[ ][ ][ ][ ][ ]\n",
        "[ ][ ][ ][ ][ ]\n",
        "[ ][ ][ ][ ][ ]\n",
        "\n",
        "You have 5 guesses to find the treasure.\n",
        "\n",
        "Enter your guess (row and column): 2 3\n",
        "\n",
        "Hmmm... You're getting closer!\n",
        "\n",
        "Here's the updated board:\n",
        "[ ][ ][ ][ ][ ]\n",
        "[ ][ ][ ][ ][ ]\n",
        "[ ][ ][ ][ ][ ]\n",
        "[ ][ ][ ][ ][ ]\n",
        "[ ][ ][ ][ ][T]\n",
        "\n",
        "Enter your guess (row and column): 3 4\n",
        "\n",
        "Congratulations! You found the treasure! You win!\n",
        "```\n",
        "\n",
        "**Note:** Feel free to customize the exercise and add more features to make it even more engaging and challenging for learners."
      ]
    },
    {
      "cell_type": "code",
      "source": [
        "def game():\n",
        "  import numpy\n",
        "  X=numpy.random.randint(1,6)\n",
        "  Y=numpy.random.randint(1,6)\n",
        "  array=numpy.zeros((5,5))\n",
        "  print(\"--- Welcome to the Treasure Hunt Game! ---\\n\\n\",\"Here's the game board:\\n\",array,\"\\n\\nYou have 5 guesses to find the treasure.\\n\")\n",
        "  for i in range(1,6):\n",
        "    x=input(\"Enter your guess (row,column): \")\n",
        "    try:\n",
        "      x,y=x.split(\",\")\n",
        "      x=int(x)\n",
        "      y=int(y)\n",
        "    except:\n",
        "      raise ValueError(\"Values must seperated with comma!\")\n",
        "    array[x-1,y-1]=i\n",
        "    print(array)\n",
        "    if X==x and Y==y:\n",
        "      print(\"Congratulations! You found the treasure! You win!\")\n",
        "      break\n",
        "    elif X==x or Y==y:\n",
        "      print(\"Hmmm... You're getting closer!\")\n",
        "    else:\n",
        "      print(\"Neither row or column is true.\")"
      ],
      "metadata": {
        "id": "-EVzVCRiNTZD"
      },
      "execution_count": null,
      "outputs": []
    },
    {
      "cell_type": "code",
      "source": [
        "game()"
      ],
      "metadata": {
        "colab": {
          "base_uri": "https://localhost:8080/"
        },
        "id": "JscOtCCiNOFW",
        "outputId": "66e4d200-4db7-4180-eac7-2a452f8ca162"
      },
      "execution_count": null,
      "outputs": [
        {
          "output_type": "stream",
          "name": "stdout",
          "text": [
            "--- Welcome to the Treasure Hunt Game! ---\n",
            "\n",
            " Here's the game board:\n",
            " [[0. 0. 0. 0. 0.]\n",
            " [0. 0. 0. 0. 0.]\n",
            " [0. 0. 0. 0. 0.]\n",
            " [0. 0. 0. 0. 0.]\n",
            " [0. 0. 0. 0. 0.]] \n",
            "\n",
            "You have 5 guesses to find the treasure.\n",
            "\n",
            "Enter your guess (row,column): 2,3\n",
            "[[0. 0. 0. 0. 0.]\n",
            " [0. 0. 1. 0. 0.]\n",
            " [0. 0. 0. 0. 0.]\n",
            " [0. 0. 0. 0. 0.]\n",
            " [0. 0. 0. 0. 0.]]\n",
            "Neither row or column is true.\n",
            "Enter your guess (row,column): 3,4\n",
            "[[0. 0. 0. 0. 0.]\n",
            " [0. 0. 1. 0. 0.]\n",
            " [0. 0. 0. 2. 0.]\n",
            " [0. 0. 0. 0. 0.]\n",
            " [0. 0. 0. 0. 0.]]\n",
            "Hmmm... You're getting closer!\n",
            "Enter your guess (row,column): 3,5\n",
            "[[0. 0. 0. 0. 0.]\n",
            " [0. 0. 1. 0. 0.]\n",
            " [0. 0. 0. 2. 3.]\n",
            " [0. 0. 0. 0. 0.]\n",
            " [0. 0. 0. 0. 0.]]\n",
            "Neither row or column is true.\n",
            "Enter your guess (row,column): 5,3\n",
            "[[0. 0. 0. 0. 0.]\n",
            " [0. 0. 1. 0. 0.]\n",
            " [0. 0. 0. 2. 3.]\n",
            " [0. 0. 0. 0. 0.]\n",
            " [0. 0. 4. 0. 0.]]\n",
            "Neither row or column is true.\n",
            "Enter your guess (row,column): 1,4\n",
            "[[0. 0. 0. 5. 0.]\n",
            " [0. 0. 1. 0. 0.]\n",
            " [0. 0. 0. 2. 3.]\n",
            " [0. 0. 0. 0. 0.]\n",
            " [0. 0. 4. 0. 0.]]\n",
            "Congratulations! You found the treasure! You win!\n"
          ]
        }
      ]
    },
    {
      "cell_type": "markdown",
      "metadata": {
        "id": "DE51FXevrMm7"
      },
      "source": [
        "**Exercise Title:** \"Crypto Cipher Challenge\"\n",
        "\n",
        "**Exercise Description:**\n",
        "\n",
        "In this exercise, you'll practice your Python skills by creating a program that encrypts and decrypts messages using a custom crypto cipher. This cipher involves shifting letters in the alphabet by a certain number of positions.\n",
        "\n",
        "**Instructions:**\n",
        "\n",
        "1. Define a function `encrypt(message, shift)` that takes a string `message` and an integer `shift`. This function should shift each letter in the message `shift` positions to the right in the alphabet. For example, if `shift` is 3, 'a' should become 'd', 'b' should become 'e', and so on. Non-alphabet characters should remain unchanged. The function should return the encrypted message.\n",
        "\n",
        "2. Define a function `decrypt(encrypted_message, shift)` that takes an encrypted message and the same integer `shift` used for encryption. This function should decrypt the message, shifting each letter `shift` positions to the left to recover the original message.\n",
        "\n",
        "3. Create a sample message, for example, \"hello, world!\", and an encryption shift of 3.\n",
        "\n",
        "4. Use your `encrypt` function to encrypt the sample message and store the result.\n",
        "\n",
        "5. Use your `decrypt` function to decrypt the encrypted message using the same shift value. Verify that the decrypted message matches the original message.\n",
        "\n",
        "**Example:**\n",
        "\n",
        "```python\n",
        "message = \"hello, world!\"\n",
        "shift = 3\n",
        "\n",
        "# Encrypt the message\n",
        "encrypted_message = encrypt(message, shift)\n",
        "print(\"Encrypted Message:\", encrypted_message)\n",
        "\n",
        "# Decrypt the message\n",
        "decrypted_message = decrypt(encrypted_message, shift)\n",
        "print(\"Decrypted Message:\", decrypted_message)\n",
        "```\n",
        "\n",
        "**Challenge:**\n",
        "\n",
        "For an extra challenge, you can add error handling to your functions to handle cases where the shift value is negative or greater than 26."
      ]
    },
    {
      "cell_type": "code",
      "source": [
        "def encrypt(message,shift):\n",
        "  enc_message=\"\"\n",
        "  for m in message:\n",
        "    if m.isalpha():\n",
        "      char=chr(((ord(m) - ord('a') + shift) % 26) + ord('a'))\n",
        "    else:\n",
        "      char=m\n",
        "    enc_message+=char\n",
        "  return enc_message\n",
        "\n",
        "def decrypt(message, shift):\n",
        "  dec_message=\"\"\n",
        "  for m in message:\n",
        "    if m.isalpha():\n",
        "      char=chr(((ord(m) - ord('a') - shift) % 26) + ord('a'))\n",
        "    else:\n",
        "      char=m\n",
        "    dec_message+=char\n",
        "  return dec_message"
      ],
      "metadata": {
        "id": "Hf4fqe-yVlW2"
      },
      "execution_count": null,
      "outputs": []
    },
    {
      "cell_type": "code",
      "source": [
        "decrypt(\"khoor, zruog!\",3)"
      ],
      "metadata": {
        "colab": {
          "base_uri": "https://localhost:8080/",
          "height": 36
        },
        "id": "3u7nyjHntpEK",
        "outputId": "764f6246-ce76-41ba-d542-f7073df7eadc"
      },
      "execution_count": null,
      "outputs": [
        {
          "output_type": "execute_result",
          "data": {
            "text/plain": [
              "'hello, world!'"
            ],
            "application/vnd.google.colaboratory.intrinsic+json": {
              "type": "string"
            }
          },
          "metadata": {},
          "execution_count": 64
        }
      ]
    }
  ],
  "metadata": {
    "colab": {
      "provenance": [],
      "authorship_tag": "ABX9TyNeAS4d1bWUFPKrBXIJ8dNE",
      "include_colab_link": true
    },
    "kernelspec": {
      "display_name": "Python 3",
      "name": "python3"
    },
    "language_info": {
      "name": "python"
    }
  },
  "nbformat": 4,
  "nbformat_minor": 0
}